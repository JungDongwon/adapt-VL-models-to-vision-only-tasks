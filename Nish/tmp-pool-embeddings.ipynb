{
 "cells": [
  {
   "cell_type": "code",
   "execution_count": 1,
   "id": "ee2b3e00-8ada-4c43-a9cb-7f6cbb08161e",
   "metadata": {
    "tags": []
   },
   "outputs": [],
   "source": [
    "import os\n",
    "import cv2\n",
    "import torch\n",
    "import numpy as np\n",
    "from detectron2.config import get_cfg\n",
    "from detectron2.engine import DefaultPredictor\n",
    "from detectron2.modeling import build_model\n",
    "from detectron2.checkpoint import DetectionCheckpointer\n",
    "from detectron2.data import MetadataCatalog\n",
    "from torchvision.transforms.functional import to_tensor\n",
    "import torch.nn.functional as F\n",
    "from datasets import load_dataset\n",
    "import pickle"
   ]
  },
  {
   "cell_type": "code",
   "execution_count": 2,
   "id": "211b0204-ee0b-4a73-ab3f-9a7bc3af57c8",
   "metadata": {
    "tags": []
   },
   "outputs": [],
   "source": [
    "def pool_embeddings(embeddings):\n",
    "    new_embeddings = []\n",
    "    for embedding in embeddings:\n",
    "        new_embedding = torch.mean(embedding, dim=0)\n",
    "        new_embeddings.append(new_embedding)\n",
    "    return new_embeddings"
   ]
  },
  {
   "cell_type": "code",
   "execution_count": 3,
   "id": "dc49e5f9-d0af-4c15-8df4-9aed28877ecf",
   "metadata": {
    "tags": []
   },
   "outputs": [],
   "source": [
    "with open(\"tiny-imagenet-embeddings.pkl\", \"rb\") as f:\n",
    "    embeddings = pickle.load(f)\n"
   ]
  },
  {
   "cell_type": "code",
   "execution_count": 4,
   "id": "c6956895-f6ab-43f4-8d55-c7006982ba07",
   "metadata": {
    "tags": []
   },
   "outputs": [],
   "source": [
    "for k in ['test', 'train', 'val']:\n",
    "    embeddings[k]['embeddings'] = pool_embeddings(embeddings[k]['embeddings'])"
   ]
  },
  {
   "cell_type": "code",
   "execution_count": 8,
   "id": "9286fa1f-980f-4ce8-ae21-922200d5b75d",
   "metadata": {
    "tags": []
   },
   "outputs": [],
   "source": [
    "with open(\"tiny-imagenet-embeddings.pkl\", \"wb\") as f:\n",
    "    pickle.dump(embeddings, f)"
   ]
  },
  {
   "cell_type": "code",
   "execution_count": 9,
   "id": "ebf91c8f-a63b-4f96-8496-b7afa8f2047d",
   "metadata": {
    "tags": []
   },
   "outputs": [],
   "source": [
    "with open(\"cifar100-train-embeddings.pkl\", \"rb\") as f:\n",
    "    embeddings = pickle.load(f)"
   ]
  },
  {
   "cell_type": "code",
   "execution_count": 11,
   "id": "de98f8b3-bb97-4d3d-8d28-4776c0303f46",
   "metadata": {
    "tags": []
   },
   "outputs": [],
   "source": [
    "embeddings['embeddings'] = pool_embeddings(embeddings['embeddings'])"
   ]
  },
  {
   "cell_type": "code",
   "execution_count": 12,
   "id": "6dcd3c48-007a-4483-8ad7-2593b23c19e5",
   "metadata": {
    "tags": []
   },
   "outputs": [],
   "source": [
    "with open(\"cifar100-train-embeddings.pkl\", \"wb\") as f:\n",
    "    pickle.dump(embeddings, f)"
   ]
  },
  {
   "cell_type": "code",
   "execution_count": 13,
   "id": "e50439ec-f12f-4848-b6bb-794620f1921f",
   "metadata": {
    "tags": []
   },
   "outputs": [],
   "source": [
    "with open(\"cifar100-test-embeddings.pkl\", \"rb\") as f:\n",
    "    embeddings = pickle.load(f)\n",
    "    \n",
    "embeddings['embeddings'] = pool_embeddings(embeddings['embeddings'])\n",
    "\n",
    "with open(\"cifar100-test-embeddings.pkl\", \"wb\") as f:\n",
    "    pickle.dump(embeddings, f)"
   ]
  },
  {
   "cell_type": "code",
   "execution_count": null,
   "id": "695a20de-a859-4cd9-82fb-7fd9ff16d1bd",
   "metadata": {},
   "outputs": [],
   "source": []
  }
 ],
 "metadata": {
  "kernelspec": {
   "display_name": "Python 3 (ipykernel)",
   "language": "python",
   "name": "python3"
  },
  "language_info": {
   "codemirror_mode": {
    "name": "ipython",
    "version": 3
   },
   "file_extension": ".py",
   "mimetype": "text/x-python",
   "name": "python",
   "nbconvert_exporter": "python",
   "pygments_lexer": "ipython3",
   "version": "3.10.10"
  }
 },
 "nbformat": 4,
 "nbformat_minor": 5
}
