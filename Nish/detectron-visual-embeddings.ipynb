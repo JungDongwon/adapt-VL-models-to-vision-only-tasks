{
 "cells": [
  {
   "cell_type": "code",
   "execution_count": 20,
   "id": "ebcf31be-2c72-4f3b-8e8e-4d4df20eec01",
   "metadata": {
    "tags": []
   },
   "outputs": [],
   "source": [
    "import os\n",
    "import cv2\n",
    "import torch\n",
    "import numpy as np\n",
    "from detectron2.config import get_cfg\n",
    "from detectron2.engine import DefaultPredictor\n",
    "from detectron2.modeling import build_model\n",
    "from detectron2.checkpoint import DetectionCheckpointer\n",
    "from detectron2.data import MetadataCatalog\n",
    "from torchvision.transforms.functional import to_tensor\n",
    "import pickle"
   ]
  },
  {
   "cell_type": "code",
   "execution_count": 4,
   "id": "d8981364-9818-44f9-adbc-97cbb8282445",
   "metadata": {
    "tags": []
   },
   "outputs": [],
   "source": [
    "def setup_detectron2_model(config_file, model_weights, device):\n",
    "    cfg = get_cfg()\n",
    "    cfg.merge_from_file(config_file)\n",
    "    cfg.MODEL.RETINANET.SCORE_THRESH_TEST = 0.5\n",
    "    cfg.MODEL.WEIGHTS = model_weights\n",
    "    cfg.MODEL.DEVICE = device\n",
    "\n",
    "    model = build_model(cfg)\n",
    "    model.eval()\n",
    "    DetectionCheckpointer(model).load(cfg.MODEL.WEIGHTS)\n",
    "    return model"
   ]
  },
  {
   "cell_type": "code",
   "execution_count": 22,
   "id": "c7afb5ea-5d35-4283-8b54-ce8cf221a0bd",
   "metadata": {
    "tags": []
   },
   "outputs": [],
   "source": [
    "def extract_roi_features(image, model):\n",
    "    image = to_tensor(image)  # Convert image to a PyTorch tensor\n",
    "    image = image.to(model.device)  # Move image to the same device as the model\n",
    "    image = (image * 255).to(torch.uint8)  # Convert back to the original range (0-255)\n",
    "\n",
    "    with torch.no_grad():\n",
    "        input_image = model.preprocess_image([{\"image\": image, \"height\": image.shape[0], \"width\": image.shape[1]}])\n",
    "        features = model.backbone(input_image.tensor)\n",
    "        proposals, _ = model.proposal_generator(input_image, features)\n",
    "        instances, _ = model.roi_heads(input_image, features, proposals)\n",
    "        roi_features = model.roi_heads.box_pooler(\n",
    "            [features[f] for f in [\"p2\", \"p3\", \"p4\", \"p5\"]],\n",
    "            [x.pred_boxes for x in instances]\n",
    "        )\n",
    "    return roi_features"
   ]
  },
  {
   "cell_type": "code",
   "execution_count": 6,
   "id": "57e019ca-4e9d-4164-b3ab-ddaba62ac54e",
   "metadata": {
    "tags": []
   },
   "outputs": [],
   "source": [
    "def get_tiny_imagenet_images(path):\n",
    "    images = []\n",
    "    for root, _, files in os.walk(path):\n",
    "        for file in files:\n",
    "            if file.endswith(\".JPEG\"):\n",
    "                images.append(os.path.join(root, file))\n",
    "    return images"
   ]
  },
  {
   "cell_type": "code",
   "execution_count": 10,
   "id": "f1665784-bc9c-4bbc-a651-858795b1c3ca",
   "metadata": {
    "tags": []
   },
   "outputs": [
    {
     "name": "stderr",
     "output_type": "stream",
     "text": [
      "model_final_280758.pkl: 167MB [00:01, 137MB/s]                             \n"
     ]
    }
   ],
   "source": [
    "device = \"cuda\" if torch.cuda.is_available() else \"cpu\"\n",
    "config_file = \"faster_rcnn_R_50_FPN_3x.yaml\"\n",
    "model_weights = \"detectron2://COCO-Detection/faster_rcnn_R_50_FPN_3x/137849458/model_final_280758.pkl\"\n",
    "model = setup_detectron2_model(config_file, model_weights, device)"
   ]
  },
  {
   "cell_type": "code",
   "execution_count": 29,
   "id": "519b1c0f-de95-4357-9c16-4fbc8e3cc35c",
   "metadata": {
    "tags": []
   },
   "outputs": [],
   "source": [
    "tiny_imagenet_path = \"tiny-imagenet-200\"\n",
    "image_paths = get_tiny_imagenet_images(tiny_imagenet_path)"
   ]
  },
  {
   "cell_type": "code",
   "execution_count": 34,
   "id": "5b7b86a3-99f9-4f9e-9706-351b11122f40",
   "metadata": {
    "tags": []
   },
   "outputs": [
    {
     "name": "stdout",
     "output_type": "stream",
     "text": [
      "Generating: 120000 embeddings, for tiny-imagenet-200\n",
      "On idx 0\n",
      "On idx 1000\n",
      "On idx 2000\n",
      "On idx 3000\n",
      "On idx 4000\n",
      "On idx 5000\n",
      "On idx 6000\n",
      "On idx 7000\n",
      "On idx 8000\n",
      "On idx 9000\n",
      "On idx 10000\n",
      "On idx 11000\n",
      "On idx 12000\n",
      "On idx 13000\n",
      "On idx 14000\n",
      "On idx 15000\n",
      "On idx 16000\n",
      "On idx 17000\n",
      "On idx 18000\n",
      "On idx 19000\n",
      "On idx 20000\n",
      "On idx 21000\n",
      "On idx 22000\n",
      "On idx 23000\n",
      "On idx 24000\n",
      "On idx 25000\n",
      "On idx 26000\n",
      "On idx 27000\n",
      "On idx 28000\n",
      "On idx 29000\n",
      "On idx 30000\n",
      "On idx 31000\n",
      "On idx 32000\n",
      "On idx 33000\n",
      "On idx 34000\n",
      "On idx 35000\n",
      "On idx 36000\n",
      "On idx 37000\n",
      "On idx 38000\n",
      "On idx 39000\n",
      "On idx 40000\n",
      "On idx 41000\n",
      "On idx 42000\n",
      "On idx 43000\n",
      "On idx 44000\n",
      "On idx 45000\n",
      "On idx 46000\n",
      "On idx 47000\n",
      "On idx 48000\n",
      "On idx 49000\n",
      "On idx 50000\n",
      "On idx 51000\n",
      "On idx 52000\n",
      "On idx 53000\n",
      "On idx 54000\n",
      "On idx 55000\n",
      "On idx 56000\n",
      "On idx 57000\n",
      "On idx 58000\n",
      "On idx 59000\n",
      "On idx 60000\n",
      "On idx 61000\n",
      "On idx 62000\n",
      "On idx 63000\n",
      "On idx 64000\n",
      "On idx 65000\n",
      "On idx 66000\n",
      "On idx 67000\n",
      "On idx 68000\n",
      "On idx 69000\n",
      "On idx 70000\n",
      "On idx 71000\n",
      "On idx 72000\n",
      "On idx 73000\n",
      "On idx 74000\n",
      "On idx 75000\n",
      "On idx 76000\n",
      "On idx 77000\n",
      "On idx 78000\n",
      "On idx 79000\n",
      "On idx 80000\n",
      "On idx 81000\n",
      "On idx 82000\n",
      "On idx 83000\n",
      "On idx 84000\n",
      "On idx 85000\n",
      "On idx 86000\n",
      "On idx 87000\n",
      "On idx 88000\n",
      "On idx 89000\n",
      "On idx 90000\n",
      "On idx 91000\n",
      "On idx 92000\n",
      "On idx 93000\n",
      "On idx 94000\n",
      "On idx 95000\n",
      "On idx 96000\n",
      "On idx 97000\n",
      "On idx 98000\n",
      "On idx 99000\n",
      "On idx 100000\n",
      "On idx 101000\n",
      "On idx 102000\n",
      "On idx 103000\n",
      "On idx 104000\n",
      "On idx 105000\n",
      "On idx 106000\n",
      "On idx 107000\n",
      "On idx 108000\n",
      "On idx 109000\n",
      "On idx 110000\n",
      "On idx 111000\n",
      "On idx 112000\n",
      "On idx 113000\n",
      "On idx 114000\n",
      "On idx 115000\n",
      "On idx 116000\n",
      "On idx 117000\n",
      "On idx 118000\n",
      "On idx 119000\n"
     ]
    }
   ],
   "source": [
    "print(\"Generating: \" + str(len(image_paths)) + \" embeddings, for \" + tiny_imagenet_path)\n",
    "\n",
    "visual_embeddings = {}\n",
    "\n",
    "for idx, image_path in enumerate(image_paths):\n",
    "    if idx % 1000 == 0:\n",
    "        print(\"On idx \" + str(idx))\n",
    "    image = cv2.imread(image_path)\n",
    "    image = cv2.cvtColor(image, cv2.COLOR_BGR2RGB)\n",
    "    roi_features = extract_roi_features(image, model)\n",
    "    visual_embeddings[image_path] = roi_features"
   ]
  },
  {
   "cell_type": "code",
   "execution_count": 37,
   "id": "7c8f2082-5f6a-4a00-b770-7b627e25bde1",
   "metadata": {
    "tags": []
   },
   "outputs": [],
   "source": [
    "with open(\"embeddings.pkl\", 'wb') as f:\n",
    "    pickle.dump(visual_embeddings, f)"
   ]
  },
  {
   "cell_type": "code",
   "execution_count": null,
   "id": "5282a160-eb92-4d91-a0bc-98a3c3745b6b",
   "metadata": {},
   "outputs": [],
   "source": []
  }
 ],
 "metadata": {
  "kernelspec": {
   "display_name": "Python 3 (ipykernel)",
   "language": "python",
   "name": "python3"
  },
  "language_info": {
   "codemirror_mode": {
    "name": "ipython",
    "version": 3
   },
   "file_extension": ".py",
   "mimetype": "text/x-python",
   "name": "python",
   "nbconvert_exporter": "python",
   "pygments_lexer": "ipython3",
   "version": "3.10.10"
  }
 },
 "nbformat": 4,
 "nbformat_minor": 5
}
